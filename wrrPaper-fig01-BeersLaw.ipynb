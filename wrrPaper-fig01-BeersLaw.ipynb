{
 "cells": [
  {
   "cell_type": "markdown",
   "metadata": {},
   "source": [
    "# Workflow for Beer's law results\n",
    "This document contains the results for a single estimation method of shortwave radiation, namely Beer's law. Expaning this workflow for other estimation methods should be straightforward.\n",
    "\n",
    "## Goals\n",
    "* Learn to work with Python and jupyter notebooks\n",
    "* Set up the workflow for the full analysis to reproduce figure 1 from Clark et al. (2015)\n",
    "\n",
    "## Workflow\n",
    "* Load the appropriate .nc file\n",
    "* Create a Pandas dataframe with time and shortwave radiation estimates\n",
    "* Calculate the hourly mean estimate for three different time periods\n",
    "* Plot the resulting typical values throughout a 24-hour day\n",
    "\n",
    "The time periods are:\n",
    "* 2005-10-01 to 2006-09-30\n",
    "* 2006-10-01 to 2007-09-30\n",
    "* 2007-10-01 to 2008-09-30\n",
    "\n",
    "## Analysis\n",
    "### Load data\n",
    "Define the path:"
   ]
  },
  {
   "cell_type": "code",
   "execution_count": 1,
   "metadata": {},
   "outputs": [],
   "source": [
    "# Import a function that deals with paths properly, regardless of OS\n",
    "from pathlib import Path  \n",
    "\n",
    "# Main folder\n",
    "dataFolder = Path('C:/Users/wmk934/OneDrive - University of Saskatchewan/Postdoc/SUMMA/summaTestCases_2.1/output/wrrPaperTestCases/figure01')"
   ]
  },
  {
   "cell_type": "markdown",
   "metadata": {},
   "source": [
    "Find the file names (not really needed here, but prepares the setup of the full script where we do need all these file names):"
   ]
  },
  {
   "cell_type": "code",
   "execution_count": 2,
   "metadata": {},
   "outputs": [],
   "source": [
    "# Import a library that allows us to check what's in directories\n",
    "import os \n",
    "\n",
    "# Find the .nc files in this folder, but exclude those with 'spinup' in the name\n",
    "dataFiles = [file for file in os.listdir(dataFolder) if file.endswith('.nc') and not 'spinup' in file]"
   ]
  },
  {
   "cell_type": "markdown",
   "metadata": {},
   "source": [
    "Load the first .nc file (this contains the results obtained with Beer's law):"
   ]
  },
  {
   "cell_type": "code",
   "execution_count": 3,
   "metadata": {},
   "outputs": [],
   "source": [
    "# Import a method to load netcdf4 files\n",
    "from netCDF4 import Dataset\n",
    "\n",
    "# Open the file\n",
    "openNcFile = Dataset(os.path.join(dataFolder,dataFiles[0]),'r', format=\"NETCDF4\")"
   ]
  },
  {
   "cell_type": "markdown",
   "metadata": {},
   "source": [
    "Extract the shortwave radiation estimates along with their simulation time stamps:"
   ]
  },
  {
   "cell_type": "code",
   "execution_count": 4,
   "metadata": {},
   "outputs": [],
   "source": [
    "# Extract the 'time' variable (also a dimension of the flux variables)\n",
    "time = openNcFile.variables['time'] # 1 dimension: call the exact values with 'time[:]'' (or simply 'time')\n",
    "\n",
    "# Extract the `scalarBelowCanopySolar` variable\n",
    "data = openNcFile.variables['scalarBelowCanopySolar'] # 2 dimensions: 'time' & 'hru'. Call data with 'data[:,0]''"
   ]
  },
  {
   "cell_type": "markdown",
   "metadata": {},
   "source": [
    "The simulation time stamps are given as 'seconds away from 1990-01-01 0:00:00'. Create a datetime-object that we can use as an index in a Pandas dataframe:"
   ]
  },
  {
   "cell_type": "code",
   "execution_count": 16,
   "metadata": {},
   "outputs": [],
   "source": [
    "# Import the datetime method\n",
    "import pandas as pd\n",
    "\n",
    "# Store the 'time since 1990-01-01' in a temporary array to convert from a numpy masked array to a float (otherwise pd.Timedelta breaks)\n",
    "time_offset = time[:].data\n",
    "\n",
    "# Create the full list using the baseline data of 1990-01-01 0:00:00 and the 'time since baseline time information from the .nc file'\n",
    "time_list = [pd.Timestamp('1990-01-01 0:00:00') \n",
    "             + pd.Timedelta(seconds=time_offset[i]) for i in range(0, len(time_offset))]"
   ]
  },
  {
   "cell_type": "markdown",
   "metadata": {},
   "source": [
    "Store time and data in a Pandas dataframe:"
   ]
  },
  {
   "cell_type": "code",
   "execution_count": 22,
   "metadata": {},
   "outputs": [
    {
     "name": "stdout",
     "output_type": "stream",
     "text": [
      "                            shortwave radiation estimate\n",
      "time                                                    \n",
      "2005-07-01 00:00:00.000000                           0.0\n",
      "2005-07-01 00:59:59.999987                           0.0\n",
      "2005-07-01 02:00:00.000013                           0.0\n"
     ]
    }
   ],
   "source": [
    "# Create the dataframe\n",
    "df = pd.DataFrame({'time' : time_list, \n",
    "                   'shortwave radiation estimate' : data[:,0]})\n",
    "\n",
    "# Make sure that 'time' is used as the dataframe index \n",
    "df.set_index('time', inplace=True)\n",
    "\n",
    "# This procedure results in certain rounding errors:\n",
    "print(df[0:3])"
   ]
  },
  {
   "cell_type": "markdown",
   "metadata": {},
   "source": [
    "Round the hours:"
   ]
  },
  {
   "cell_type": "code",
   "execution_count": 23,
   "metadata": {},
   "outputs": [
    {
     "name": "stdout",
     "output_type": "stream",
     "text": [
      "                     shortwave radiation estimate\n",
      "time                                             \n",
      "2005-07-01 00:00:00                           0.0\n",
      "2005-07-01 01:00:00                           0.0\n",
      "2005-07-01 02:00:00                           0.0\n"
     ]
    }
   ],
   "source": [
    "# We can use the index functions now to round to whole (H)ours\n",
    "df.index = df.index.round('H')\n",
    "\n",
    "# Everything is a round hour now\n",
    "print(df[0:3])"
   ]
  },
  {
   "cell_type": "markdown",
   "metadata": {},
   "source": [
    "The data has been prepared. Create a custom function to calculate the hourly mean for a user-specified time period:"
   ]
  },
  {
   "cell_type": "code",
   "execution_count": 41,
   "metadata": {},
   "outputs": [],
   "source": [
    "# The typical function input should look like: f(dataframe, \"2005-10-01\", \"2006-09-30\"))\n",
    "def calcHourlyMean(data, time_start, time_end):\n",
    "    \n",
    "    # Convert inputs to datetime objects\n",
    "    date_start = pd.Timestamp(time_start)\n",
    "    date_end = pd.Timestamp(time_end)\n",
    "    \n",
    "    # Find which indices are between these dates\n",
    "    date_use = []\n",
    "    for i in range(0,len(df.index)):\n",
    "        if df.index[i] >= date_start and df.index[i] <= date_end:\n",
    "            date_use.append(i)\n",
    "            \n",
    "    # Calculate the hourly means for the period described by the indices\n",
    "    # Structure: [  select right data  ] [group the data by each hour of 24-h day  ] [mean per group]\n",
    "    hourlyMean = df[date_start:date_end].groupby(df[date_start:date_end].index.hour).mean()\n",
    "    \n",
    "    # Return this value\n",
    "    return hourlyMean"
   ]
  },
  {
   "cell_type": "markdown",
   "metadata": {},
   "source": [
    "Extract the data for each of the three periods:"
   ]
  },
  {
   "cell_type": "code",
   "execution_count": 44,
   "metadata": {},
   "outputs": [],
   "source": [
    "srad_beer_2005_2006 = calcHourlyMean(df, '2005-10-01', '2006-09-30')\n",
    "srad_beer_2006_2007 = calcHourlyMean(df, '2006-10-01', '2007-09-30')\n",
    "srad_beer_2007_2008 = calcHourlyMean(df, '2007-10-01', '2008-09-30')"
   ]
  },
  {
   "cell_type": "markdown",
   "metadata": {},
   "source": [
    "Create a plot that shows these values:"
   ]
  },
  {
   "cell_type": "code",
   "execution_count": 45,
   "metadata": {},
   "outputs": [
    {
     "name": "stdout",
     "output_type": "stream",
     "text": [
      "      shortwave radiation estimate\n",
      "time                              \n",
      "0                         0.000000\n",
      "1                         0.000000\n",
      "2                         0.000000\n",
      "3                         0.000000\n",
      "4                         0.000000\n",
      "5                         0.000000\n",
      "6                         0.000000\n",
      "7                         0.000000\n",
      "8                         0.000000\n",
      "9                         0.000000\n",
      "10                        0.000000\n",
      "11                        0.000000\n",
      "12                        0.000000\n",
      "13                        0.000005\n",
      "14                        5.645756\n",
      "15                       47.394040\n",
      "16                       91.446716\n",
      "17                       93.621879\n",
      "18                       57.034199\n",
      "19                       20.316259\n",
      "20                        1.735360\n",
      "21                        0.000000\n",
      "22                        0.000000\n",
      "23                        0.000000\n"
     ]
    }
   ],
   "source": [
    "print(srad_beer_2005_2006)"
   ]
  },
  {
   "cell_type": "code",
   "execution_count": null,
   "metadata": {},
   "outputs": [],
   "source": [
    "srad_"
   ]
  },
  {
   "cell_type": "code",
   "execution_count": 54,
   "metadata": {},
   "outputs": [
    {
     "data": {
      "image/png": "[encoded data removed]",
      "text/plain": [
       "<Figure size 432x288 with 1 Axes>"
      ]
     },
     "metadata": {
      "needs_background": "light"
     },
     "output_type": "display_data"
    }
   ],
   "source": [
    "# Import a library that allows plotting\n",
    "import matplotlib.pyplot as plt\n",
    "\n",
    "# Create the figure\n",
    "plt.plot(srad_beer_2005_2006.index, srad_beer_2005_2006['shortwave radiation estimate'], label='Beer\\'s law')\n",
    "plt.xlabel('Time of day')\n",
    "plt.ylabel('Below canopy shortwave radiation [W m-2]')\n",
    "plt.title('2005-2006')\n",
    "plt.legend()\n",
    "plt.show()"
   ]
  },
  {
   "cell_type": "markdown",
   "metadata": {},
   "source": [
    "## Things to figure out\n",
    "* How to store and share data such that specified path remains valid\n",
    "* More elegant way of handling repeated function calls for different time periods\n",
    "* Why these results seem so different from this on the paper!\n",
    "\n",
    "## References\n",
    "Clark, M. P., B. Nijssen, J. D. Lundquist, D. Kavetski, D. E. Rupp, R. A. Woods, J. E. Freer, E. D. Gutmann, A. W. Wood, D. J. Gochis, R. M. Rasmussen, D. G. Tarboton, V. Mahat, G. N. Flerchinger, D. G. Marks, 2015b: A unified approach for process-based hydrologic modeling: Part 2. Model implementation and case studies. Water Resources Research, doi:10.1002/2015WR017200."
   ]
  }
 ],
 "metadata": {
  "kernelspec": {
   "display_name": "Python 3",
   "language": "python",
   "name": "python3"
  },
  "language_info": {
   "codemirror_mode": {
    "name": "ipython",
    "version": 3
   },
   "file_extension": ".py",
   "mimetype": "text/x-python",
   "name": "python",
   "nbconvert_exporter": "python",
   "pygments_lexer": "ipython3",
   "version": "3.7.1"
  }
 },
 "nbformat": 4,
 "nbformat_minor": 2
}
